{
 "cells": [
  {
   "cell_type": "markdown",
   "id": "f0a61948",
   "metadata": {
    "id": "f0a61948"
   },
   "source": [
    "# 🔹 Assignment 1: Seq2Seq Model for Sentence Unshuffling\n",
    "In this assignment, you'll implement a basic **Sequence-to-Sequence (Seq2Seq)** neural network using PyTorch.\n",
    "\n",
    "### 🎯 **Your goal:**\n",
    "Given a sentence whose words have been shuffled randomly, your model must reconstruct the original sentence.\n",
    "\n",
    "**Example:**\n",
    "\n",
    "| Input (shuffled) | Output (original) |\n",
    "|-----------------|------------------|\n",
    "| `mat the on sat cat The` | `The cat sat on the mat` |"
   ]
  },
  {
   "cell_type": "markdown",
   "id": "37546a90",
   "metadata": {
    "id": "37546a90"
   },
   "source": [
    "## 🔹 Why this task?\n",
    "This simple yet non-trivial task demonstrates how language models learn word-order and syntactic structures.\n",
    "From a psycholinguistic viewpoint, sentence reconstruction taps into:\n",
    "\n",
    "- **Working memory**: The model must hold multiple words and reorder them meaningfully.\n",
    "- **Syntax and semantics**: Reordering depends on syntactic constraints and semantic coherence."
   ]
  },
  {
   "cell_type": "markdown",
   "id": "FmlLBejDCw6X",
   "metadata": {
    "id": "FmlLBejDCw6X"
   },
   "source": [
    "## 🔹 Quick Summary of PyTorch Workflow\n",
    "\n",
    "The general workflow when working with on deep learning with PyTorch usually involves these steps:\n",
    "\n",
    "1. **Prepare your data**:\n",
    "    - Define your dataset by subclassing `torch.utils.data.Dataset`.\n",
    "    - Use a `DataLoader` to iterate efficiently over the dataset in batches.\n",
    "    - Tokenization - select tokenization method and tokenize your data.\n",
    "\n",
    "2. **Define your model**:\n",
    "    - Create a model class by subclassing `nn.Module`.\n",
    "    - Define model layers in `__init__`.\n",
    "    - Define how data flows through the layers in the `forward()` method.\n",
    "\n",
    "\n",
    "3. **Training**:\n",
    "    - Select an appropriate loss function (`nn.CrossEntropyLoss`, `nn.MSELoss`, etc.).\n",
    "    - Choose an optimizer (`optim.Adam`, `optim.SGD`, etc.).\n",
    "    - **Training Loop** -- For each batch:\n",
    "        1. Pass input data through your model to produce predictions (logits).\n",
    "        2. Compute the loss w.r.t. the gold label (target).\n",
    "        3. Perform backpropagation (`loss.backward()`) to calculate gradients of all model parameters.\n",
    "        4. Update the model parameters with your optimizer (`optimizer.step()`).\n",
    "        5. Reset gradients (`optimizer.zero_grad()`).\n",
    "\n",
    "This structured workflow helps streamline model development and makes training neural networks clear and efficient.\n",
    "\n",
    "This notebook will walk you through this process - you need to learn it and the complete the missing code segment marked with a `#TODO` comment."
   ]
  },
  {
   "cell_type": "markdown",
   "id": "IMXO6OkGIU1j",
   "metadata": {
    "id": "IMXO6OkGIU1j"
   },
   "source": [
    "## 🔹 Step 0: One-time Preparations\n",
    "\n",
    "### Step 0.1: Install Python Dependencies"
   ]
  },
  {
   "cell_type": "code",
   "execution_count": 1,
   "id": "hKyvKyjaIgWA",
   "metadata": {
    "colab": {
     "base_uri": "https://localhost:8080/"
    },
    "id": "hKyvKyjaIgWA",
    "outputId": "4dec8dbd-2589-4dae-e1f4-710f3acba812"
   },
   "outputs": [
    {
     "name": "stdout",
     "output_type": "stream",
     "text": [
      "Requirement already satisfied: torch in c:\\users\\avich\\anaconda3\\lib\\site-packages (2.7.0)\n",
      "Requirement already satisfied: pandas in c:\\users\\avich\\anaconda3\\lib\\site-packages (2.0.3)\n",
      "Requirement already satisfied: scikit-learn in c:\\users\\avich\\anaconda3\\lib\\site-packages (1.3.0)\n",
      "Requirement already satisfied: filelock in c:\\users\\avich\\anaconda3\\lib\\site-packages (from torch) (3.9.0)\n",
      "Requirement already satisfied: typing-extensions>=4.10.0 in c:\\users\\avich\\anaconda3\\lib\\site-packages (from torch) (4.13.2)\n",
      "Requirement already satisfied: sympy>=1.13.3 in c:\\users\\avich\\anaconda3\\lib\\site-packages (from torch) (1.14.0)\n",
      "Requirement already satisfied: networkx in c:\\users\\avich\\anaconda3\\lib\\site-packages (from torch) (3.1)\n",
      "Requirement already satisfied: jinja2 in c:\\users\\avich\\anaconda3\\lib\\site-packages (from torch) (3.1.2)\n",
      "Requirement already satisfied: fsspec in c:\\users\\avich\\anaconda3\\lib\\site-packages (from torch) (2023.4.0)\n",
      "Requirement already satisfied: python-dateutil>=2.8.2 in c:\\users\\avich\\anaconda3\\lib\\site-packages (from pandas) (2.8.2)\n",
      "Requirement already satisfied: pytz>=2020.1 in c:\\users\\avich\\anaconda3\\lib\\site-packages (from pandas) (2023.3.post1)\n",
      "Requirement already satisfied: tzdata>=2022.1 in c:\\users\\avich\\anaconda3\\lib\\site-packages (from pandas) (2023.3)\n",
      "Requirement already satisfied: numpy>=1.21.0 in c:\\users\\avich\\anaconda3\\lib\\site-packages (from pandas) (1.24.3)\n",
      "Requirement already satisfied: scipy>=1.5.0 in c:\\users\\avich\\anaconda3\\lib\\site-packages (from scikit-learn) (1.11.1)\n",
      "Requirement already satisfied: joblib>=1.1.1 in c:\\users\\avich\\anaconda3\\lib\\site-packages (from scikit-learn) (1.2.0)\n",
      "Requirement already satisfied: threadpoolctl>=2.0.0 in c:\\users\\avich\\anaconda3\\lib\\site-packages (from scikit-learn) (2.2.0)\n",
      "Requirement already satisfied: six>=1.5 in c:\\users\\avich\\anaconda3\\lib\\site-packages (from python-dateutil>=2.8.2->pandas) (1.16.0)\n",
      "Requirement already satisfied: mpmath<1.4,>=1.1.0 in c:\\users\\avich\\anaconda3\\lib\\site-packages (from sympy>=1.13.3->torch) (1.3.0)\n",
      "Requirement already satisfied: MarkupSafe>=2.0 in c:\\users\\avich\\anaconda3\\lib\\site-packages (from jinja2->torch) (2.1.1)\n",
      "Note: you may need to restart the kernel to use updated packages.\n"
     ]
    }
   ],
   "source": [
    "%pip install torch pandas scikit-learn"
   ]
  },
  {
   "cell_type": "markdown",
   "id": "c7573a39",
   "metadata": {
    "id": "c7573a39"
   },
   "source": [
    "### Step 0.2: Download the Dataset\n",
    "Download the provided dataset file (`train.csv`) from the following link:\n",
    "\n",
    "[train.csv](https://drive.google.com/file/d/1eHBj_mdKjPfj_NuXy0zCG5IkQMJLGpPM/view?usp=sharing)\n",
    "\n",
    "Then upload the file to your Colab notebook or Jupyter environment."
   ]
  },
  {
   "cell_type": "markdown",
   "id": "8d22c22e",
   "metadata": {
    "id": "8d22c22e"
   },
   "source": [
    "## 🔹 Step 1: Prepare Data"
   ]
  },
  {
   "cell_type": "code",
   "execution_count": 2,
   "id": "a70075c2",
   "metadata": {
    "id": "a70075c2"
   },
   "outputs": [
    {
     "data": {
      "text/html": [
       "<div>\n",
       "<style scoped>\n",
       "    .dataframe tbody tr th:only-of-type {\n",
       "        vertical-align: middle;\n",
       "    }\n",
       "\n",
       "    .dataframe tbody tr th {\n",
       "        vertical-align: top;\n",
       "    }\n",
       "\n",
       "    .dataframe thead th {\n",
       "        text-align: right;\n",
       "    }\n",
       "</style>\n",
       "<table border=\"1\" class=\"dataframe\">\n",
       "  <thead>\n",
       "    <tr style=\"text-align: right;\">\n",
       "      <th></th>\n",
       "      <th>Unnamed: 0</th>\n",
       "      <th>input_sentence</th>\n",
       "      <th>target_sentence</th>\n",
       "    </tr>\n",
       "  </thead>\n",
       "  <tbody>\n",
       "    <tr>\n",
       "      <th>0</th>\n",
       "      <td>0</td>\n",
       "      <td>to think need we about. That's something</td>\n",
       "      <td>That's something we need to think about.</td>\n",
       "    </tr>\n",
       "    <tr>\n",
       "      <th>1</th>\n",
       "      <td>1</td>\n",
       "      <td>is mountains. the up moon coming over The</td>\n",
       "      <td>The moon is coming up over the mountains.</td>\n",
       "    </tr>\n",
       "    <tr>\n",
       "      <th>2</th>\n",
       "      <td>2</td>\n",
       "      <td>committee. the The through Congressmen bill ra...</td>\n",
       "      <td>The Congressmen rammed the bill through commit...</td>\n",
       "    </tr>\n",
       "    <tr>\n",
       "      <th>3</th>\n",
       "      <td>3</td>\n",
       "      <td>careful late I'll to never again. be be</td>\n",
       "      <td>I'll be careful never to be late again.</td>\n",
       "    </tr>\n",
       "    <tr>\n",
       "      <th>4</th>\n",
       "      <td>4</td>\n",
       "      <td>please.\" gifts, \"No The said, invitation</td>\n",
       "      <td>The invitation said, \"No gifts, please.\"</td>\n",
       "    </tr>\n",
       "  </tbody>\n",
       "</table>\n",
       "</div>"
      ],
      "text/plain": [
       "   Unnamed: 0                                     input_sentence  \\\n",
       "0           0           to think need we about. That's something   \n",
       "1           1          is mountains. the up moon coming over The   \n",
       "2           2  committee. the The through Congressmen bill ra...   \n",
       "3           3            careful late I'll to never again. be be   \n",
       "4           4           please.\" gifts, \"No The said, invitation   \n",
       "\n",
       "                                     target_sentence  \n",
       "0           That's something we need to think about.  \n",
       "1          The moon is coming up over the mountains.  \n",
       "2  The Congressmen rammed the bill through commit...  \n",
       "3            I'll be careful never to be late again.  \n",
       "4           The invitation said, \"No gifts, please.\"  "
      ]
     },
     "execution_count": 2,
     "metadata": {},
     "output_type": "execute_result"
    }
   ],
   "source": [
    "import pandas as pd\n",
    "import torch\n",
    "import torch.nn as nn\n",
    "import torch.optim as optim\n",
    "import random\n",
    "from sklearn.model_selection import train_test_split\n",
    "\n",
    "random_seed = 123\n",
    "random.seed(random_seed)\n",
    "torch.manual_seed(random_seed)\n",
    "\n",
    "df = pd.read_csv('train.csv')\n",
    "df.head()"
   ]
  },
  {
   "cell_type": "code",
   "execution_count": 3,
   "id": "c21b2edd",
   "metadata": {
    "id": "c21b2edd"
   },
   "outputs": [
    {
     "name": "stdout",
     "output_type": "stream",
     "text": [
      "Training examples: 31500\n",
      "Development examples: 3500\n"
     ]
    }
   ],
   "source": [
    "train_df, dev_df = train_test_split(df, test_size=0.1, random_state=42)\n",
    "print(f\"Training examples: {len(train_df)}\")\n",
    "print(f\"Development examples: {len(dev_df)}\")"
   ]
  },
  {
   "cell_type": "markdown",
   "id": "JRGMPu8eKVnI",
   "metadata": {
    "id": "JRGMPu8eKVnI"
   },
   "source": [
    "#### Pedagogical Note: **Why do we split train data into training and development (dev) sets?**\n",
    "\n",
    "When developing machine learning models, we want to ensure our model not only performs well on the data it has seen during training but also generalizes effectively to **new, unseen data**.\n",
    "\n",
    "- **Training set**:  \n",
    "  Used by the model to learn patterns. This is the data your model sees repeatedly during the training process.\n",
    "\n",
    "- **Development (dev) set** *(also known as validation set)*:  \n",
    "  Used to evaluate the model's performance on unseen examples during training. By checking the model periodically against the dev set, we can identify and prevent **overfitting**—when the model performs excellently on training data but poorly on new examples.\n",
    "\n",
    "Thus, by splitting the data, we ensure our model truly learns generalizable patterns rather than memorizing the specific examples it trained on.\n"
   ]
  },
  {
   "cell_type": "code",
   "execution_count": 4,
   "id": "9df6d543",
   "metadata": {
    "id": "9df6d543"
   },
   "outputs": [
    {
     "name": "stdout",
     "output_type": "stream",
     "text": [
      "Vocabulary size: 8531\n"
     ]
    }
   ],
   "source": [
    "# Handle Vocabulary and Tokenization\n",
    "from collections import Counter  # for count the number of words easy\n",
    "\n",
    "def tokenize(sentence):\n",
    "    return sentence.lower().split() # convert to lowercase letters and then split by spaces\n",
    "\n",
    "counter = Counter()\n",
    "for sentence in train_df['input_sentence']:\n",
    "    counter.update(tokenize(sentence))\n",
    "\n",
    "# Special Tokens\n",
    "PAD = '<PAD>' # to fill in when sentence is too short\n",
    "SOS = '<SOS>' # start of sentence\n",
    "EOS = '<EOS>' # end of sentence\n",
    "UNK = '<UNK>'   # to handle out-of-vocabulary words - unknown\n",
    "\n",
    "words = [PAD, SOS, EOS, UNK] + [w for w, c in counter.items() if c >= 2] # save only words that shows at least twice\n",
    "# we maintain mapping between words (vocabulary entries) and their ids\n",
    "word2idx = {w: i for i, w in enumerate(words)} # convert from word to number\n",
    "idx2word = {i: w for w, i in word2idx.items()} # convert from number to word\n",
    "\n",
    "vocab_size = len(word2idx)\n",
    "print(f\"Vocabulary size: {vocab_size}\")\n",
    "\n",
    "\n",
    "## this next function get a sentence and convert it to list of numbers in the same length for all\n",
    "## this is done so that the sentence will be ready to be fed into the model\n",
    "\n",
    "def encode_sentence(sentence: str, word2idx, max_len):\n",
    "    # Replace sentence string with a fixed-length list of ints (token_ids with padding)\n",
    "    tokens = tokenize(sentence) # divide the sentence into words-tokens\n",
    "    token_ids = [word2idx.get(w, word2idx[UNK]) for w in tokens]\n",
    "    token_ids = token_ids[:max_len-1] # trim the list so that it is shorter one token  than max_len\n",
    "    token_ids.append(word2idx[EOS]) # add the EOS token to the end to mark sentence termination\n",
    "    padding = [word2idx[PAD]] * (max_len - len(token_ids)) # add PAD tokens if needed to make the sentence exactly max_len long\n",
    "    return token_ids + padding"
   ]
  },
  {
   "cell_type": "code",
   "execution_count": 5,
   "id": "9a1b859c",
   "metadata": {
    "id": "9a1b859c"
   },
   "outputs": [],
   "source": [
    "# Custom Dataset class for sentence-to-sentence mapping\n",
    "class SentenceDataset(torch.utils.data.Dataset):\n",
    "    def __init__(self, df, word2idx, max_len):\n",
    "        # Store input and target sentences as lists of strings\n",
    "        self.input_sentences = df['input_sentence'].tolist() # input: shuffled sentence\n",
    "        self.target_sentences = df['target_sentence'].tolist() # target: original sentence\n",
    "        self.word2idx = word2idx  # mapping from word to index\n",
    "        self.max_len = max_len    # maximum length of sentence (for padding)\n",
    "\n",
    "    def __len__(self):\n",
    "        # Return number of examples in the dataset\n",
    "        return len(self.input_sentences)\n",
    "\n",
    "    def __getitem__(self, idx):\n",
    "        # Encode both input and target sentences to fixed-length tensors of token IDs\n",
    "        src = encode_sentence(self.input_sentences[idx], self.word2idx, self.max_len)\n",
    "        trg = encode_sentence(self.target_sentences[idx], self.word2idx, self.max_len)\n",
    "        return torch.tensor(src), torch.tensor(trg)  # return as PyTorch tensors\n",
    "\n",
    "# Define batch size and maximum sentence length\n",
    "# this is the hyperparameters\n",
    "batch_size = 32\n",
    "max_len = 50  # All sequences will be padded/truncated to this length\n",
    "\n",
    "# Create training dataset and dataloader\n",
    "train_dataset = SentenceDataset(train_df, word2idx, max_len)\n",
    "train_loader = torch.utils.data.DataLoader(\n",
    "    train_dataset, batch_size=batch_size, shuffle=True\n",
    ")\n",
    "# DataLoader loads batches from the dataset and optionally shuffles them\n",
    "\n",
    "# Create development (validation) dataset and dataloader\n",
    "dev_dataset = SentenceDataset(dev_df, word2idx, max_len)\n",
    "dev_loader = torch.utils.data.DataLoader(\n",
    "    dev_dataset, batch_size=batch_size\n",
    ")\n"
   ]
  },
  {
   "cell_type": "markdown",
   "id": "7o3Mz8zr3foD",
   "metadata": {
    "id": "7o3Mz8zr3foD"
   },
   "source": [
    "## PyTorch Quick Reference\n",
    "\n",
    "Since this is your first encounter with PyTorch in the course, here's a short summary of essential PyTorch classes used in this notebook:\n"
   ]
  },
  {
   "cell_type": "markdown",
   "id": "hKLOmTr0BHyk",
   "metadata": {
    "id": "hKLOmTr0BHyk"
   },
   "source": [
    "\n",
    "---\n",
    "### ✅ torch.utils.data.Dataset\n",
    "#### What is it?\n",
    "\n",
    "An abstract class representing your dataset. It lets you define exactly how to access and prepare each data point.\n",
    "\n",
    "#### How to use it?\n",
    "\n",
    "You subclass it and implement two methods:\n",
    "\n",
    "`__len__(self)`: returns the size of your dataset.\n",
    "\n",
    "`__getitem__(self, index)`: returns one data point (input-target pair).\n",
    "\n",
    "#### Why do we use it?\n",
    "It provides a clean way to structure your data and feed it systematically into your model.\n",
    "\n",
    "---\n",
    "### ✅ torch.utils.data.DataLoader\n",
    "#### What is it?\n",
    "A utility that takes a Dataset object and provides an iterator over it.\n",
    "\n",
    "#### How to use it?\n",
    "Specify batch size, shuffle options, and more:\n",
    "\n",
    "```python\n",
    "loader = torch.utils.data.DataLoader(dataset, batch_size=32, shuffle=True)\n",
    "```\n",
    "#### Why do we use it?\n",
    "It handles batching, shuffling, and efficient parallel data loading automatically—making your training loop concise and efficient.\n",
    "\n",
    "---\n",
    "### ✅ torch.nn.Module\n",
    "#### What is it?\n",
    "The base class for all neural network models in PyTorch. Every model you build inherits from it.\n",
    "\n",
    "#### How to use it?\n",
    "You subclass it, define your layers in the constructor (`__init__`), and specify the forward pass in the `forward()` method:\n",
    "\n",
    "```python\n",
    "class MyModel(nn.Module):\n",
    "    def __init__(self):\n",
    "        super(MyModel, self).__init__()\n",
    "        self.linear = nn.Linear(10, 1)\n",
    "    \n",
    "    def forward(self, x):\n",
    "        return self.linear(x)\n",
    "```\n",
    "#### Why do we use it?\n",
    "It manages model parameters, handles the forward computation, and simplifies tasks such as moving models to GPU or tracking gradients automatically.\n",
    "\n",
    "\n"
   ]
  },
  {
   "cell_type": "markdown",
   "id": "VlTEAM4y3FA0",
   "metadata": {
    "id": "VlTEAM4y3FA0"
   },
   "source": [
    "## 🔹 Step 2: Define Model"
   ]
  },
  {
   "cell_type": "markdown",
   "id": "DuXH8zUee6Ud",
   "metadata": {
    "id": "DuXH8zUee6Ud"
   },
   "source": [
    "### Building blocks - Enocder and Decoder"
   ]
  },
  {
   "cell_type": "code",
   "execution_count": 6,
   "id": "6c990ab2",
   "metadata": {
    "id": "6c990ab2"
   },
   "outputs": [],
   "source": [
    "class EncoderRNN(nn.Module):\n",
    "    def __init__(self, vocab_size, embedding_size, hidden_size):\n",
    "        super(EncoderRNN, self).__init__()\n",
    "        # TODO: define layers used in the encoder, e.g. embedding and LSTM layers\n",
    "        self.hidden_size = hidden_size\n",
    "        self.embedding = nn.Embedding(vocab_size, embedding_size) # convert every word into vector in size 64\n",
    "        self.lstm = nn.LSTM(embedding_size, hidden_size, dropout = 0.3) # send this vectors to LSTM, and we add dropout to prevent overfit\n",
    "\n",
    "        # the function forward is how the data pass through the model\n",
    "    def forward(self, input, hidden):\n",
    "        \"\"\"\n",
    "        input: (seq_len, batch_size) - token indices for input sentence\n",
    "        hidden: (1, batch_size, hidden_size) - initial hidden state\n",
    "        Returns:\n",
    "            output: all hidden states for the input sequence\n",
    "            hidden: final hidden state\n",
    "        \"\"\"\n",
    "        # TODO: implement the forward pass here\n",
    "        embedded = self.embedding(input)  # (seq_len, batch, embedding_size)\n",
    "        output, hidden = self.lstm(embedded, hidden)  # pass the vectors into the LSTM\n",
    "        return output, hidden\n",
    "\n",
    "    #def init_hidden(self, batch_size):\n",
    "    #    return torch.zeros(1, batch_size, hidden_size)\n",
    "    \n",
    "    def init_hidden(self, batch_size):\n",
    "        return (\n",
    "            torch.zeros(1, batch_size, self.hidden_size),  # h_0\n",
    "            torch.zeros(1, batch_size, self.hidden_size)   # c_0\n",
    "        )\n",
    "\n",
    "class DecoderRNN(nn.Module):\n",
    "    def __init__(self, vocab_size, embedding_size, hidden_size):\n",
    "        super(DecoderRNN, self).__init__()\n",
    "        # TODO: define layers used in the decoder, e.g. embedding, LSTM and linear layers\n",
    "        self.hidden_size = hidden_size\n",
    "        self.embedding = nn.Embedding(vocab_size, embedding_size)  # words to vectors\n",
    "        self.lstm = nn.LSTM(embedding_size, hidden_size)  # vectors from before to LSTM\n",
    "        self.out = nn.Linear(hidden_size, vocab_size)  # layer for predict the next word\n",
    "\n",
    "    def forward(self, input, hidden):\n",
    "        \"\"\"\n",
    "        input: (batch_size) - current token index at this decoding step\n",
    "        hidden: (1, batch_size, hidden_size) - current hidden state\n",
    "        Returns:\n",
    "            output: prediction for the next word (before softmax)\n",
    "            hidden: updated hidden state\n",
    "        \"\"\"\n",
    "        # TODO: Embed the input token, run one step of the RNN, generate output\n",
    "        embedded = self.embedding(input).unsqueeze(0)  # # add time dimension\n",
    "        output, hidden = self.lstm(embedded, hidden)  # run one step of LSTM\n",
    "        output = self.out(output.squeeze(0))  # predict next word\n",
    "        return output, hidden\n"
   ]
  },
  {
   "cell_type": "code",
   "execution_count": 7,
   "id": "08f70b0d",
   "metadata": {
    "id": "08f70b0d"
   },
   "outputs": [
    {
     "name": "stderr",
     "output_type": "stream",
     "text": [
      "C:\\Users\\avich\\anaconda3\\Lib\\site-packages\\torch\\nn\\modules\\rnn.py:123: UserWarning: dropout option adds dropout after all but last recurrent layer, so non-zero dropout expects num_layers greater than 1, but got dropout=0.3 and num_layers=1\n",
      "  warnings.warn(\n"
     ]
    },
    {
     "name": "stdout",
     "output_type": "stream",
     "text": [
      "Encoder output shape: torch.Size([50, 32, 128])\n",
      "Decoder output shape: torch.Size([32, 8531])\n"
     ]
    }
   ],
   "source": [
    "# Define Encoder & Decoder\n",
    "embedding_size = 64\n",
    "hidden_size = 128\n",
    "\n",
    "encoder = EncoderRNN(vocab_size, embedding_size, hidden_size)\n",
    "decoder = DecoderRNN(vocab_size, embedding_size, hidden_size)\n",
    "\n",
    "# Sanity Checks\n",
    "sample_input, sample_target = next(iter(train_loader))\n",
    "encoder_hidden = encoder.init_hidden(sample_input.size(0))\n",
    "encoder_output, encoder_hidden = encoder(sample_input.T, encoder_hidden)\n",
    "\n",
    "decoder_input = torch.tensor([word2idx[SOS]] * sample_input.size(0))\n",
    "decoder_hidden = encoder_hidden\n",
    "\n",
    "decoder_output, decoder_hidden = decoder(decoder_input, decoder_hidden)\n",
    "\n",
    "print(\"Encoder output shape:\", encoder_output.shape)\n",
    "print(\"Decoder output shape:\", decoder_output.shape)\n"
   ]
  },
  {
   "cell_type": "markdown",
   "id": "jQLknjFt-5bg",
   "metadata": {
    "id": "jQLknjFt-5bg"
   },
   "source": [
    "### Seq2Seq model that wraps Encoder and Decoder together"
   ]
  },
  {
   "cell_type": "code",
   "execution_count": 9,
   "id": "JdusuF9w_Ea4",
   "metadata": {
    "id": "JdusuF9w_Ea4"
   },
   "outputs": [],
   "source": [
    "class Seq2Seq(nn.Module): # encoder decoder in one piece\n",
    "    def __init__(self, encoder, decoder, sos_idx, device):\n",
    "        super(Seq2Seq, self).__init__()\n",
    "        self.encoder = encoder\n",
    "        self.decoder = decoder\n",
    "        self.sos_idx = sos_idx\n",
    "        self.device = device  # needed for creating new tensors like hidden states\n",
    "\n",
    "    def forward(self, src, trg):\n",
    "        \"\"\"\n",
    "        src: (batch_size, seq_len) - input sentence (shuffled)\n",
    "        trg: (batch_size, seq_len) - target sentence (original)\n",
    "        Returns:\n",
    "            outputs: tensor of shape (batch_size, seq_len, vocab_size)\n",
    "        \"\"\"\n",
    "        batch_size, trg_len = trg.shape\n",
    "        vocab_size = self.decoder.out.out_features\n",
    "\n",
    "        # Create an empty tensor to store decoder outputs\n",
    "        outputs = torch.zeros(batch_size, trg_len, vocab_size, device=self.device)\n",
    "\n",
    "        # Transpose inputs to match (seq_len, batch_size)\n",
    "        src = src.T\n",
    "        trg = trg.T\n",
    "\n",
    "        # Initialize hidden state on correct device\n",
    "        hidden = self.encoder.init_hidden(batch_size)\n",
    "\n",
    "        # Encode the input sentence\n",
    "        _, hidden = self.encoder(src, hidden)\n",
    "\n",
    "        # Start decoding with the <SOS> token\n",
    "        input = torch.full((batch_size,), self.sos_idx, device=self.device)\n",
    "\n",
    "        for t in range(trg_len):\n",
    "            output, hidden = self.decoder(input, hidden)\n",
    "            outputs[:, t, :] = output\n",
    "            input = trg[t]  # teacher forcing: feed the true token at each step\n",
    "\n",
    "        return outputs\n"
   ]
  },
  {
   "cell_type": "markdown",
   "id": "WAmJH-5feIkb",
   "metadata": {
    "id": "WAmJH-5feIkb"
   },
   "source": [
    "## 🔹 Step 3: Training"
   ]
  },
  {
   "cell_type": "code",
   "execution_count": 15,
   "id": "0lUGBZ7pd0Rw",
   "metadata": {
    "id": "0lUGBZ7pd0Rw"
   },
   "outputs": [],
   "source": [
    "# define the training-loop function\n",
    "def train_model(model, train_loader, dev_loader, optimizer, criterion, device, num_epochs=5):\n",
    "    model.to(device)\n",
    "    train_losses = []\n",
    "    dev_losses = []\n",
    "\n",
    "    for epoch in range(num_epochs):\n",
    "        model.train()\n",
    "        epoch_loss = 0\n",
    "\n",
    "        for src, trg in train_loader:\n",
    "            src, trg = src.to(device), trg.to(device)\n",
    "\n",
    "            optimizer.zero_grad()\n",
    "            output = model(src, trg)\n",
    "\n",
    "            # output: (batch, seq_len, vocab_size)\n",
    "            # trg: (batch, seq_len)\n",
    "            output = output.view(-1, output.shape[-1])  # shape: (batch * seq_len, vocab_size)\n",
    "            trg = trg.view(-1)                          # shape: (batch * seq_len)\n",
    "\n",
    "            # Compute the loss\n",
    "            loss = criterion(output, trg)\n",
    "\n",
    "            loss.backward()\n",
    "            optimizer.step()\n",
    "            epoch_loss += loss.item()\n",
    "\n",
    "        train_losses.append(epoch_loss / len(train_loader))\n",
    "\n",
    "        # Evaluate on dev set\n",
    "        model.eval()\n",
    "        dev_loss = 0\n",
    "\n",
    "        with torch.no_grad():\n",
    "            for src, trg in dev_loader:\n",
    "                src, trg = src.to(device), trg.to(device)\n",
    "                output = model(src, trg)\n",
    "                output = output.view(-1, output.shape[-1])\n",
    "                trg = trg.view(-1)\n",
    "                loss = criterion(output, trg)\n",
    "                dev_loss += loss.item()\n",
    "\n",
    "        dev_losses.append(dev_loss / len(dev_loader))\n",
    "\n",
    "        # --- Clean and formatted output ---\n",
    "        bar = \"=\" * 60\n",
    "        print(f\"\\n{bar}\")\n",
    "        print(f\"{'EPOCH':<12}: {epoch + 1} / {num_epochs}\")\n",
    "        print(f\"{'Train Loss':<12}: {train_losses[-1]:.4f}\")\n",
    "        print(f\"{'Dev Loss':<12}: {dev_losses[-1]:.4f}\")\n",
    "        print(f\"{bar}\\n\")\n",
    "\n",
    "    return train_losses, dev_losses\n",
    "\n"
   ]
  },
  {
   "cell_type": "code",
   "execution_count": 16,
   "id": "AqiWK2_-fOWF",
   "metadata": {
    "id": "AqiWK2_-fOWF"
   },
   "outputs": [
    {
     "name": "stdout",
     "output_type": "stream",
     "text": [
      "\n",
      "============================================================\n",
      "EPOCH       : 1 / 5\n",
      "Train Loss  : 4.8715\n",
      "Dev Loss    : 4.4924\n",
      "============================================================\n",
      "\n",
      "\n",
      "============================================================\n",
      "EPOCH       : 2 / 5\n",
      "Train Loss  : 4.3881\n",
      "Dev Loss    : 4.1233\n",
      "============================================================\n",
      "\n",
      "\n",
      "============================================================\n",
      "EPOCH       : 3 / 5\n",
      "Train Loss  : 3.9795\n",
      "Dev Loss    : 3.8006\n",
      "============================================================\n",
      "\n",
      "\n",
      "============================================================\n",
      "EPOCH       : 4 / 5\n",
      "Train Loss  : 3.6659\n",
      "Dev Loss    : 3.6057\n",
      "============================================================\n",
      "\n",
      "\n",
      "============================================================\n",
      "EPOCH       : 5 / 5\n",
      "Train Loss  : 3.4344\n",
      "Dev Loss    : 3.4583\n",
      "============================================================\n",
      "\n"
     ]
    }
   ],
   "source": [
    "# Instantiate Model\n",
    "device = torch.device(\"cuda\" if torch.cuda.is_available() else \"cpu\")\n",
    "model = Seq2Seq(encoder, decoder, word2idx[SOS], device)\n",
    "\n",
    "# Choose optimizer and loss function\n",
    "optimizer = optim.Adam(model.parameters(), lr=0.001)\n",
    "criterion = nn.CrossEntropyLoss(ignore_index=word2idx[PAD])\n",
    "\n",
    "# Run training\n",
    "train_losses, dev_losses = train_model(\n",
    "    model, train_loader, dev_loader,\n",
    "    optimizer, criterion, device,\n",
    "    num_epochs=5\n",
    ")"
   ]
  },
  {
   "cell_type": "code",
   "execution_count": 17,
   "id": "k63dQnCoh3Zn",
   "metadata": {
    "id": "k63dQnCoh3Zn"
   },
   "outputs": [
    {
     "data": {
      "image/png": "[encoded data removed]",
      "text/plain": [
       "<Figure size 640x480 with 1 Axes>"
      ]
     },
     "metadata": {},
     "output_type": "display_data"
    }
   ],
   "source": [
    "# Helper - loss visualizations\n",
    "import matplotlib.pyplot as plt\n",
    "\n",
    "def plot_losses(train_losses, dev_losses):\n",
    "    plt.plot(train_losses, label='Train Loss')\n",
    "    plt.plot(dev_losses, label='Dev Loss')\n",
    "    plt.xlabel('Epoch')\n",
    "    plt.ylabel('Loss')\n",
    "    plt.title('Training and Dev Loss over Epochs')\n",
    "    plt.legend()\n",
    "    plt.grid(True)\n",
    "    plt.show()\n",
    "\n",
    "plot_losses(train_losses, dev_losses)"
   ]
  },
  {
   "cell_type": "markdown",
   "id": "aO0t5R_HkEvF",
   "metadata": {
    "id": "aO0t5R_HkEvF"
   },
   "source": [
    "### Pedagogical Note: Interpreting the Loss Plots 🔍\n",
    "\n",
    "After training completes, you'll see two curves:\n",
    "\n",
    "- **Train Loss**: How well the model fits the training data.\n",
    "- **Dev Loss**: How well the model generalizes to unseen (validation) data.\n",
    "\n",
    "Ideally:\n",
    "- Both curves should **decrease over time**.\n",
    "- A small gap between them indicates **good generalization**.\n",
    "- If train loss decreases but dev loss increases, your model may be **overfitting**.\n",
    "\n",
    "Use these curves to decide if your model is learning stably and when to stop training.\n"
   ]
  },
  {
   "cell_type": "markdown",
   "id": "fSXqwoPDndhF",
   "metadata": {
    "id": "fSXqwoPDndhF"
   },
   "source": [
    "## Step 4: Inference\n",
    "Now that you have a trained model, you can use it to solve your task on any new data points.\n",
    "\n",
    "Complete the code below for implementing a inference function for the model."
   ]
  },
  {
   "cell_type": "code",
   "execution_count": null,
   "id": "LOlykSQOoa_R",
   "metadata": {
    "id": "LOlykSQOoa_R"
   },
   "outputs": [],
   "source": [
    "def infer_sentences(shuffled_sentences, model, word2idx, idx2word, device, max_len=50):\n",
    "    \"\"\"\n",
    "    Generate predicted (unshuffled) sentences from a list of shuffled input sentences.\n",
    "\n",
    "    Args:\n",
    "        shuffled_sentences (List[str]): Sentences with words in randomized order.\n",
    "        model (Seq2Seq): Trained encoder-decoder model.\n",
    "        word2idx (Dict[str, int]): Mapping from words to vocabulary indices.\n",
    "        idx2word (Dict[int, str]): Mapping from indices to words.\n",
    "        device (torch.device): CPU or CUDA device for inference.\n",
    "        max_len (int): Maximum sentence length to decode.\n",
    "\n",
    "    Returns:\n",
    "        List[str]: Model's predicted sentences (as plain strings).\n",
    "    \"\"\"\n",
    "    model.eval()\n",
    "    predictions = []\n",
    "\n",
    "    sos_idx = word2idx['<SOS>']\n",
    "    eos_idx = word2idx['<EOS>']\n",
    "    pad_idx = word2idx['<PAD>']\n",
    "\n",
    "    with torch.no_grad():\n",
    "        for sentence in shuffled_sentences:\n",
    "            # TODO\n",
    "            predicted_sentence: str = ...\n",
    "            predictions.append(predicted_sentence)\n",
    "\n",
    "    return predictions\n"
   ]
  },
  {
   "cell_type": "markdown",
   "id": "Ddv1mOKWqA9p",
   "metadata": {
    "id": "Ddv1mOKWqA9p"
   },
   "source": [
    "\n",
    "Now, use the above inference function to generate prediction for the **test set**. You are provided with the test set shuffled sentences in [this downloadable file](https://drive.google.com/file/d/178mEesTW89Ooz_f5bb6sHBHjAkG4DWMV/view?usp=sharing). In your submission, you should run the inference function of the provided list of shuffled sentences, to attain a `predicted_test.csv` file. Typically, these predictions over the test set will be evaluated against their annotated labels (targets).  \n",
    "\n",
    "If you want to assess the quality of current trained model, you can run inference on the dev set and evaluate on it using the function below:"
   ]
  },
  {
   "cell_type": "code",
   "execution_count": null,
   "id": "SE0shbcytAE1",
   "metadata": {
    "id": "SE0shbcytAE1"
   },
   "outputs": [],
   "source": [
    "def evaluate_sentence_predictions(predictions, targets):\n",
    "    \"\"\"\n",
    "    Compute exact match accuracy between predicted and target sentences (as strings).\n",
    "    Args:\n",
    "        predictions (List[str])\n",
    "        targets (List[str])\n",
    "    Returns:\n",
    "        accuracy (float): percentage of exact string matches\n",
    "    \"\"\"\n",
    "    correct = 0\n",
    "    total = len(predictions)\n",
    "    for pred, true in zip(predictions, targets):\n",
    "        if pred.strip() == true.strip():\n",
    "            correct += 1\n",
    "    accuracy = correct / total * 100\n",
    "    print(f\"Exact match accuracy: {accuracy:.2f}%\")\n",
    "    return accuracy"
   ]
  },
  {
   "cell_type": "markdown",
   "id": "m9PRjqHkt50Z",
   "metadata": {
    "id": "m9PRjqHkt50Z"
   },
   "source": [
    "# 🔁 Stage 2: Add Attention to Your Seq2Seq Model\n",
    "\n",
    "In this stage, you'll implement a new model: **`Seq2SeqWithAttention`**.  \n",
    "The goal is to improve your decoder by allowing it to \"attend\" to relevant parts of the encoder's outputs at each decoding step.\n",
    "\n",
    "### 🧠 Why Attention?\n",
    "The encoder compresses the entire input sentence into a single hidden state. This limits performance, especially on long sentences.\n",
    "\n",
    "With attention, the decoder **dynamically focuses on different encoder outputs**, depending on what it's trying to generate.\n",
    "\n",
    "---\n",
    "\n",
    "### 🔧 What You Need to Implement:\n",
    "You will create a new class `Seq2SeqWithAttention`, similar to `Seq2Seq`, but with the following differences:\n",
    "\n",
    "1. At each decoding step, compute **attention scores** over all encoder hidden states.\n",
    "2. Use those scores to compute a **context vector** (weighted sum of encoder outputs).\n",
    "3. Feed the context vector into the decoder along with the embedding of the current input token.\n",
    "\n",
    "---\n",
    "\n",
    "### 📌 Tip: Dot-Product Attention\n",
    "A simple form of attention you can implement is dot-product attention:\n",
    "\n",
    "```python\n",
    "score_t = dot(h_dec_t, h_enc_i) weights = softmax(score_t over i) context_t = sum_i weights[i] * h_enc_i\n",
    "```\n",
    "\n",
    "You'll apply this at every decoder time step.\n"
   ]
  },
  {
   "cell_type": "code",
   "execution_count": null,
   "id": "nPvAmc_euarf",
   "metadata": {
    "id": "nPvAmc_euarf"
   },
   "outputs": [],
   "source": [
    "class Seq2SeqWithAttention(nn.Module):\n",
    "    def __init__(self, encoder, decoder, sos_idx, device):\n",
    "        super(Seq2SeqWithAttention, self).__init__()\n",
    "        self.encoder = encoder\n",
    "        self.decoder = decoder\n",
    "        self.sos_idx = sos_idx\n",
    "        self.device = device\n",
    "\n",
    "        # TODO: If needed, add additional layers for attention (e.g., linear projection)\n",
    "\n",
    "    def compute_attention(self, decoder_hidden, encoder_outputs):\n",
    "        \"\"\"\n",
    "        decoder_hidden: (1, batch_size, hidden_size)\n",
    "        encoder_outputs: (seq_len, batch_size, hidden_size)\n",
    "\n",
    "        Returns:\n",
    "            context vector: (batch_size, hidden_size)\n",
    "        \"\"\"\n",
    "        # TODO: implement dot-product attention or another variant\n",
    "        # Steps:\n",
    "        # 1. Compute attention scores: dot(decoder_hidden, encoder_outputs)\n",
    "        # 2. Apply softmax to get attention weights\n",
    "        # 3. Compute context vector: weighted sum of encoder_outputs\n",
    "        return context_vector\n",
    "\n",
    "    def forward(self, src, trg):\n",
    "        \"\"\"\n",
    "        src: (batch_size, seq_len)\n",
    "        trg: (batch_size, seq_len)\n",
    "        Returns:\n",
    "            outputs: (batch_size, seq_len, vocab_size)\n",
    "        \"\"\"\n",
    "        batch_size, trg_len = trg.shape\n",
    "        vocab_size = self.decoder.out.out_features\n",
    "        outputs = torch.zeros(batch_size, trg_len, vocab_size, device=self.device)\n",
    "\n",
    "        src = src.T\n",
    "        trg = trg.T\n",
    "\n",
    "        hidden = self.encoder.init_hidden(batch_size)\n",
    "        encoder_outputs, hidden = self.encoder(src, hidden)  # encoder_outputs: (seq_len, batch_size, hidden_size)\n",
    "\n",
    "        input_token = torch.full((batch_size,), self.sos_idx, device=self.device)\n",
    "\n",
    "        for t in range(trg_len):\n",
    "            # TODO: Compute context vector based on current hidden and encoder_outputs\n",
    "            context = self.compute_attention(hidden, encoder_outputs)\n",
    "\n",
    "            # TODO: Modify decoder forward to accept and use the context vector\n",
    "            # Hint: You may need to add context to the input embedding, or to the hidden state\n",
    "            output, hidden = self.decoder(input_token, hidden, context)\n",
    "\n",
    "            outputs[:, t, :] = output\n",
    "            input_token = trg[t]  # teacher forcing\n",
    "\n",
    "        return outputs\n"
   ]
  },
  {
   "cell_type": "markdown",
   "id": "3Fm5tMpGvBP1",
   "metadata": {
    "id": "3Fm5tMpGvBP1"
   },
   "source": [
    "## 📝 What You Need to Complete\n",
    "\n",
    "- Implement the `compute_attention()` method to compute a context vector from encoder outputs given the current (decoder) hidden state.\n",
    "- Update your `DecoderRNN` class so that it accepts and uses a context vector at every step:\n",
    "    - One option is to **concatenate** the context vector with the embedded input token before passing it to the RNN.\n",
    "    - Alternatively, you can feed the context into a projection layer together with the decoder hidden state.\n",
    "\n",
    "---\n",
    "\n",
    "### 📌 Tip: Updated Decoder Signature\n",
    "\n",
    "You may need to rewrite your decoder to look like:\n",
    "\n",
    "```python\n",
    "def forward(self, input_token, hidden, context_vector):\n",
    "    ...\n",
    "```\n",
    "---\n",
    "> 💡 **Note on Attention Implementation**\n",
    "\n",
    "You are given flexibility in how you choose to implement the attention mechanism.\n",
    "\n",
    "You may:\n",
    "- Implement the **basic dot-product attention** we discussed in class.\n",
    "- Or, explore a more expressive variant by adding a **linear projection** to the decoder hidden state or the encoder outputs — borrowing an idea from self-attention in Transformers.\n",
    "\n",
    "As long as your implementation uses the decoder hidden state to compute attention over the encoder outputs and forms a context vector, you're free to experiment and design the solution that makes most sense to you.\n"
   ]
  },
  {
   "cell_type": "markdown",
   "id": "lsGSMPTxwj4a",
   "metadata": {
    "id": "lsGSMPTxwj4a"
   },
   "source": [
    "## 2.2 - Evaluate and Compare\n",
    "\n",
    "In this stage, you should use your adapted `Seq2SeqWithAttention` model, train it and evaluate its performance (on the dev set).  "
   ]
  },
  {
   "cell_type": "code",
   "execution_count": null,
   "id": "RRjxs544y1NK",
   "metadata": {
    "id": "RRjxs544y1NK"
   },
   "outputs": [],
   "source": [
    "# Instantiate and Train a Seq2SeqWithAttention model\n",
    "# TODO"
   ]
  },
  {
   "cell_type": "markdown",
   "id": "b54e29c4",
   "metadata": {
    "id": "b54e29c4"
   },
   "source": [
    "## 📌 Submission Instructions:\n",
    "Submit your completed notebook along with two files of predictions over the test set - `seq2seq_predictions.csv` and `seq2seq_with_attention_predictions.csv`.\n",
    "\n",
    "I will run the evaluation over the held-out test set.\n",
    "\n",
    "You should email all of these files with an email specifying the names and ids of the team (couples).\n",
    "\n",
    "✅ **Good luck!**\n"
   ]
  }
 ],
 "metadata": {
  "colab": {
   "collapsed_sections": [
    "7o3Mz8zr3foD"
   ],
   "provenance": []
  },
  "kernelspec": {
   "display_name": "Python 3 (ipykernel)",
   "language": "python",
   "name": "python3"
  },
  "language_info": {
   "codemirror_mode": {
    "name": "ipython",
    "version": 3
   },
   "file_extension": ".py",
   "mimetype": "text/x-python",
   "name": "python",
   "nbconvert_exporter": "python",
   "pygments_lexer": "ipython3",
   "version": "3.11.5"
  }
 },
 "nbformat": 4,
 "nbformat_minor": 5
}
